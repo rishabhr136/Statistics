{
 "cells": [
  {
   "cell_type": "code",
   "execution_count": null,
   "id": "9838d787-5014-414d-ace0-22d3629bd18e",
   "metadata": {},
   "outputs": [],
   "source": [
    "#Importing required libraries\n",
    "import pandas as pd\n",
    "import numpy as np\n",
    "import matplotlib.pyplot as plt\n",
    "import seaborn as sns\n",
    "import os"
   ]
  },
  {
   "cell_type": "code",
   "execution_count": null,
   "id": "d7060dc9-e612-4ca1-af88-6726cd491db7",
   "metadata": {},
   "outputs": [],
   "source": [
    "import pandas as pd\n",
    "import numpy as np\n",
    "\n",
    "# Simulated data\n",
    "np.random.seed(0)\n",
    "data = pd.DataFrame({\n",
    "'height': np.random.normal(170, 10, 100), # heights in cm\n",
    "'weight': np.random.normal(65, 15, 100) # weights in kg\n",
    "})\n",
    "\n",
    "# Calculate Pearson correlation\n",
    "pearson_corr = data.corr(method='pearson')\n",
    "spearman_corr = data.corr(method='spearman')\n",
    "kendall_corr = data.corr(method = 'kendall')\n",
    "print(pearson_corr)\n",
    "print(spearman_corr)\n",
    "print(kendall_corr)"
   ]
  },
  {
   "cell_type": "code",
   "execution_count": null,
   "id": "75dce4ca-fecd-4225-b6da-bf000cf90930",
   "metadata": {},
   "outputs": [],
   "source": [
    "sns.heatmap(pearson_corr)\n",
    "sns.pairplot(data)"
   ]
  },
  {
   "cell_type": "code",
   "execution_count": null,
   "id": "6fc3a080-5607-40b2-b2ca-42b778403ef1",
   "metadata": {},
   "outputs": [],
   "source": [
    "import numpy as np\n",
    "\n",
    "# Sample data\n",
    "data = [[2, 4, 6, 8, 10],[12,14,16,18,20]]\n",
    "\n",
    "# Calculate mean and standard deviation\n",
    "mean = np.mean(data)\n",
    "std_dev = np.std(data)\n",
    "\n",
    "# Function to calculate Z-score\n",
    "def z_score(x, mean, std_dev):\n",
    "    return (x - mean) / std_dev\n",
    "\n",
    "# Example: Calculating the Z-score for 6\n",
    "z = z_score(6, mean, std_dev)\n",
    "print(f\"Z-score for 6: {z}\")"
   ]
  },
  {
   "cell_type": "code",
   "execution_count": null,
   "id": "db6974f8-5103-4525-b280-804fd882c501",
   "metadata": {},
   "outputs": [],
   "source": [
    "mean"
   ]
  },
  {
   "cell_type": "code",
   "execution_count": null,
   "id": "f8ac3739-b9f2-4b1a-a71a-e3fd47c044eb",
   "metadata": {},
   "outputs": [],
   "source": [
    "data"
   ]
  },
  {
   "cell_type": "code",
   "execution_count": null,
   "id": "c29ff3e1-b3b8-4844-8b9a-dbbbae748aae",
   "metadata": {},
   "outputs": [],
   "source": [
    "data = pd.DataFrame(data)\n",
    "print(data.mean(axis=1))\n",
    "print(data.std(axis=1))"
   ]
  },
  {
   "cell_type": "code",
   "execution_count": null,
   "id": "5e3bd80b-94e5-4b11-a0e8-e158bd54635e",
   "metadata": {},
   "outputs": [],
   "source": []
  }
 ],
 "metadata": {
  "kernelspec": {
   "display_name": "Python 3 (ipykernel)",
   "language": "python",
   "name": "python3"
  },
  "language_info": {
   "codemirror_mode": {
    "name": "ipython",
    "version": 3
   },
   "file_extension": ".py",
   "mimetype": "text/x-python",
   "name": "python",
   "nbconvert_exporter": "python",
   "pygments_lexer": "ipython3",
   "version": "3.11.7"
  }
 },
 "nbformat": 4,
 "nbformat_minor": 5
}
